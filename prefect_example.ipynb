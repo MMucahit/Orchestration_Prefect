{
 "cells": [
  {
   "cell_type": "code",
   "execution_count": null,
   "metadata": {},
   "outputs": [],
   "source": [
    "from prefect import flow, task\n",
    "from prefect.task_runners import SequentialTaskRunner"
   ]
  },
  {
   "cell_type": "code",
   "execution_count": null,
   "metadata": {},
   "outputs": [],
   "source": [
    "## You can provide a 'name' parameter value for the flow.\n",
    "@flow\n",
    "def my_flow(name= \"My Flow\"):\n",
    "    return"
   ]
  },
  {
   "cell_type": "code",
   "execution_count": null,
   "metadata": {},
   "outputs": [],
   "source": [
    "## Flows can calls tasks to do specific work\n",
    "@task\n",
    "def print_hello(name):\n",
    "    print(f'Hello {name}!')\n",
    "\n",
    "@flow(name= \"Hello Flow\")\n",
    "def hello_world(name= \"world\"):\n",
    "    print_hello(name)"
   ]
  },
  {
   "cell_type": "code",
   "execution_count": null,
   "metadata": {},
   "outputs": [],
   "source": [
    "## You can also provide the description\n",
    "@flow(name= \"My FLow\",\n",
    "       description= \"My flow using SequentialTaskRunner\", \n",
    "       task_runner= SequentialTaskRunner)\n",
    "def my_flow():\n",
    "    return"
   ]
  },
  {
   "cell_type": "code",
   "execution_count": null,
   "metadata": {},
   "outputs": [],
   "source": [
    "import datetime\n",
    "from prefect import flow\n",
    "\n",
    "@flow(flow_run_name=\"{name}-on-{date:%A}\")\n",
    "def my_flow(name: str, date: datetime.datetime):\n",
    "    pass\n",
    "\n",
    "# creates a flow run called 'marvin-on-Thursday'\n",
    "my_flow(name=\"marvin\", date=datetime.datetime.utcnow())"
   ]
  },
  {
   "cell_type": "code",
   "execution_count": null,
   "metadata": {},
   "outputs": [],
   "source": [
    "from prefect import flow, task\n",
    "\n",
    "@task(name=\"Print Hello\")\n",
    "def print_hello(name):\n",
    "    msg = f\"Hello {name}!\"\n",
    "    print(msg)\n",
    "    return msg\n",
    "\n",
    "@flow(name=\"Hello Flow\")\n",
    "def hello_world(name=\"world\"):\n",
    "    message = print_hello(name)\n",
    "\n",
    "hello_world(\"Marvin\")"
   ]
  },
  {
   "cell_type": "code",
   "execution_count": null,
   "metadata": {},
   "outputs": [],
   "source": []
  }
 ],
 "metadata": {
  "kernelspec": {
   "display_name": "MLOps",
   "language": "python",
   "name": "python3"
  },
  "language_info": {
   "codemirror_mode": {
    "name": "ipython",
    "version": 3
   },
   "file_extension": ".py",
   "mimetype": "text/x-python",
   "name": "python",
   "nbconvert_exporter": "python",
   "pygments_lexer": "ipython3",
   "version": "3.8.2"
  },
  "orig_nbformat": 4,
  "vscode": {
   "interpreter": {
    "hash": "04a4bbd8b88420370b6df19645b8f9743dc60bbdffd861ceacad4224d646d669"
   }
  }
 },
 "nbformat": 4,
 "nbformat_minor": 2
}
